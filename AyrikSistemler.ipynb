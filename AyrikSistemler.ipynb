{
  "nbformat": 4,
  "nbformat_minor": 0,
  "metadata": {
    "colab": {
      "provenance": []
    },
    "kernelspec": {
      "name": "python3",
      "display_name": "Python 3"
    },
    "language_info": {
      "name": "python"
    }
  },
  "cells": [
    {
      "cell_type": "markdown",
      "source": [
        "Bir web sitesinin 1000 kullanıcısı olduğunu ve bu kullanıcıların 5 farklı sunucuya yönlendirildiğini varsayalım. Bu durumda, her sunucuya ortalama 200 kullanıcı düşer. Güvercin yuvası yasasına göre, 200'den fazla kullanıcıya sahip en az bir sunucu olmalıdır."
      ],
      "metadata": {
        "id": "XR37ME9cNX57"
      }
    },
    {
      "cell_type": "code",
      "source": [
        "def pigeonhole_principle(n, k):\n",
        "  \"\"\"\n",
        "  Güvercin yuvası yasasını uygulayan fonksiyon.\n",
        "\n",
        "  Parametreler:\n",
        "    n: Güvercin sayısı\n",
        "    k: Yuva sayısı\n",
        "\n",
        "  Dönüş değeri:\n",
        "    En az bir yuvada bulunan güvercin sayısı\n",
        "  \"\"\"\n",
        "  if n <= k:\n",
        "    return n\n",
        "  else:\n",
        "    return n // k + 1\n",
        "\n",
        "# Örnek kullanım\n",
        "kullanici_sayisi = 1000\n",
        "sunucu_sayisi = 5\n",
        "\n",
        "en_az_kullanici_sayisi = pigeonhole_principle(kullanici_sayisi, sunucu_sayisi)\n",
        "\n",
        "print(f\"En az {en_az_kullanici_sayisi} kullanıcıya sahip bir sunucu var.\")\n"
      ],
      "metadata": {
        "colab": {
          "base_uri": "https://localhost:8080/"
        },
        "id": "jh-sqUSvNbHj",
        "outputId": "3f22a611-4500-4036-f028-ed860919bc57"
      },
      "execution_count": null,
      "outputs": [
        {
          "output_type": "stream",
          "name": "stdout",
          "text": [
            "En az 201 kullanıcıya sahip bir sunucu var.\n"
          ]
        }
      ]
    },
    {
      "cell_type": "markdown",
      "source": [
        "Bir şirkette 5 kişilik bir yönetim kurulu oluşturulacaktır. Yönetim kurulu için 10 aday mevcuttur. Yönetim kurulu oluşturma işlemi kaç farklı şekilde yapılabilir?"
      ],
      "metadata": {
        "id": "r8tVbpPzNjYP"
      }
    },
    {
      "cell_type": "code",
      "source": [
        "from itertools import permutations\n",
        "\n",
        "def perm(n, k):\n",
        "  \"\"\"\n",
        "  n elemanlı bir dizideki k elemanlı permütasyon sayısını hesaplayan fonksiyon.\n",
        "\n",
        "  Parametreler:\n",
        "    n: Dizideki eleman sayısı\n",
        "    k: Permütasyondaki eleman sayısı\n",
        "\n",
        "  Dönüş değeri:\n",
        "    Permütasyon sayısı\n",
        "  \"\"\"\n",
        "  if k > n:\n",
        "    return 0\n",
        "  else:\n",
        "    return len(list(permutations(range(n), k)))\n",
        "\n",
        "# Örnek kullanım\n",
        "aday_sayisi = 10\n",
        "kurul_uye_sayisi = 5\n",
        "\n",
        "perm_sayisi = perm(aday_sayisi, kurul_uye_sayisi)\n",
        "\n",
        "print(f\"{kurul_uye_sayisi} kişilik bir yönetim kurulu oluşturmak için {perm_sayisi} farklı sıralama yapılabilir.\")\n",
        "\n"
      ],
      "metadata": {
        "colab": {
          "base_uri": "https://localhost:8080/"
        },
        "id": "9RvWxXFENo5J",
        "outputId": "3c489790-4d37-4c88-bd12-0ecbb7bc1908"
      },
      "execution_count": null,
      "outputs": [
        {
          "output_type": "stream",
          "name": "stdout",
          "text": [
            "5 kişilik bir yönetim kurulu oluşturmak için 30240 farklı sıralama yapılabilir.\n"
          ]
        }
      ]
    },
    {
      "cell_type": "markdown",
      "source": [],
      "metadata": {
        "id": "bVA4ogzqNrYJ"
      }
    },
    {
      "cell_type": "markdown",
      "source": [
        "Bir şifreleme sisteminde 8 basamaklı bir şifre oluşturmak için en az bir büyük harf, bir küçük harf, bir sayı ve bir özel karakter içeren kaç farklı şifre oluşturulabilir?"
      ],
      "metadata": {
        "id": "_jid-mFfOrnm"
      }
    },
    {
      "cell_type": "code",
      "source": [
        "def faktoriyel(n):\n",
        "  \"\"\"\n",
        "  Bir sayının faktöriyelini hesaplayan fonksiyon.\n",
        "\n",
        "  Parametreler:\n",
        "    n: Faktöriyeli hesaplanacak sayı\n",
        "\n",
        "  Dönüş değeri:\n",
        "    n'nin faktöriyeli\n",
        "  \"\"\"\n",
        "  if n == 0:\n",
        "    return 1\n",
        "  else:\n",
        "    return n * faktoriyel(n - 1)\n",
        "\n",
        "def kombinasyon(n, k):\n",
        "  \"\"\"\n",
        "  n elemanlı bir diziden k elemanlı kombinasyon sayısını hesaplayan fonksiyon.\n",
        "\n",
        "  Parametreler:\n",
        "    n: Dizideki eleman sayısı\n",
        "    k: Kombinasyondaki eleman sayısı\n",
        "\n",
        "  Dönüş değeri:\n",
        "    Kombinasyon sayısı\n",
        "  \"\"\"\n",
        "  if k > n:\n",
        "    return 0\n",
        "  else:\n",
        "    return faktoriyel(n) // (faktoriyel(k) * faktoriyel(n - k))\n",
        "\n",
        "# Örnek kullanım\n",
        "basamak_sayisi = 8\n",
        "buyuk_harf_sayisi = 1\n",
        "kucuk_harf_sayisi = 1\n",
        "sayi_sayisi = 1\n",
        "ozel_karakter_sayisi = 1\n",
        "\n",
        "toplam_karakter_sayisi = 26 + 26 + 10 + 32\n",
        "farkli_karakter_sayisi = toplam_karakter_sayisi - 4\n",
        "\n",
        "kombinasyon_sayisi = kombinasyon(farkli_karakter_sayisi, basamak_sayisi - 4)\n",
        "\n",
        "print(f\"{basamak_sayisi} basamaklı ve en az {buyuk_harf_sayisi} büyük harf, {kucuk_harf_sayisi} küçük harf, {sayi_sayisi} sayı ve {ozel_karakter_sayisi} özel karakter içeren {kombinasyon_sayisi} farklı şifre oluşturulabilir.\")\n"
      ],
      "metadata": {
        "colab": {
          "base_uri": "https://localhost:8080/"
        },
        "id": "tjXQEBj0OsVz",
        "outputId": "d0247827-6d22-4110-b4be-8f71518afee9"
      },
      "execution_count": null,
      "outputs": [
        {
          "output_type": "stream",
          "name": "stdout",
          "text": [
            "8 basamaklı ve en az 1 büyük harf, 1 küçük harf, 1 sayı ve 1 özel karakter içeren 2555190 farklı şifre oluşturulabilir.\n"
          ]
        }
      ]
    }
  ]
}