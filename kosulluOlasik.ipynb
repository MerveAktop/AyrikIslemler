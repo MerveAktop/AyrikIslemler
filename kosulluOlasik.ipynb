{
  "nbformat": 4,
  "nbformat_minor": 0,
  "metadata": {
    "colab": {
      "provenance": [],
      "authorship_tag": "ABX9TyO5mGOgwtkNHHPI3DVvTRgD",
      "include_colab_link": true
    },
    "kernelspec": {
      "name": "python3",
      "display_name": "Python 3"
    },
    "language_info": {
      "name": "python"
    }
  },
  "cells": [
    {
      "cell_type": "markdown",
      "metadata": {
        "id": "view-in-github",
        "colab_type": "text"
      },
      "source": [
        "<a href=\"https://colab.research.google.com/github/MerveAktop/AyrikIslemler/blob/main/kosulluOlasik.ipynb\" target=\"_parent\"><img src=\"https://colab.research.google.com/assets/colab-badge.svg\" alt=\"Open In Colab\"/></a>"
      ]
    },
    {
      "cell_type": "markdown",
      "source": [
        "Problem:\n",
        "\n",
        "Bir e-postanın spam olup olmadığını belirlemek için aşağıdaki bilgilere sahibiz:\n",
        "\n",
        "E-posta spam kelimeleri içerir mi?\n",
        "E-posta bilinen bir spam gönderenden mi geldi?\n",
        "E-posta bir URL içerir mi?\n",
        "Bu bilgilere dayanarak, e-postanın spam olma olasılığını hesaplamak istiyoruz.\n",
        "\n",
        "Çözüm:\n",
        "\n",
        "Bu problemi Python kullanarak çözebiliriz. İlk önce, spam kelimeleri, spam gönderenler ve URL'ler gibi spam ile ilişkili verileri içeren bir veri kümesi oluşturmamız gerekir. Ardından, koşullu olasılıkları hesaplamak için Bayes Teoremi'ni kullanabiliriz."
      ],
      "metadata": {
        "id": "Je884FXdVYoo"
      }
    },
    {
      "cell_type": "code",
      "execution_count": 1,
      "metadata": {
        "colab": {
          "base_uri": "https://localhost:8080/"
        },
        "id": "6TUhnmj8VBxW",
        "outputId": "2c990361-8091-4689-e30a-5ad8314d0827"
      },
      "outputs": [
        {
          "output_type": "stream",
          "name": "stdout",
          "text": [
            "E-posta spam olma olasılığı: 1.01\n"
          ]
        }
      ],
      "source": [
        "import pandas as pd\n",
        "\n",
        "# Spam kelimeleri, spam gönderenler ve URL'ler içeren bir veri kümesi oluşturun\n",
        "data = {\n",
        "    \"spam\": [True, False, False, True, True],\n",
        "    \"spam_words\": [\"viagra\", \"kazan\", \"ücretsiz\", \"teklif\", \"bedava\"],\n",
        "    \"sender\": [\"spammer@example.com\", \"legit@example.com\", \"legit@example.com\", \"spammer@example.com\", \"spammer@example.com\"],\n",
        "    \"url\": [\"https://spammywebsite.com\", None, None, None, \"https://spammywebsite.com\"],\n",
        "}\n",
        "\n",
        "df = pd.DataFrame(data)\n",
        "\n",
        "# Bayes Teoremi'ni kullanarak spam olma olasılığını hesaplayın\n",
        "def calculate_spam_probability(email):\n",
        "    spam_words = email[\"spam_words\"]\n",
        "    sender = email[\"sender\"]\n",
        "    url = email[\"url\"]\n",
        "\n",
        "    spam_words_probability = 0.8 if spam_words else 0.2\n",
        "    sender_probability = 0.9 if sender == \"spammer@example.com\" else 0.1\n",
        "    url_probability = 0.7 if url else 0.3\n",
        "\n",
        "    prior_probability = 0.5  # Spam olma öncesi olasılık\n",
        "\n",
        "    posterior_probability = (spam_words_probability * sender_probability * url_probability) / prior_probability\n",
        "\n",
        "    return posterior_probability\n",
        "\n",
        "# Bir e-postanın spam olma olasılığını hesaplayın\n",
        "email = {\"spam_words\": [\"kazan\", \"ücretsiz\"], \"sender\": \"spammer@example.com\", \"url\": \"https://spammywebsite.com\"}\n",
        "\n",
        "spam_probability = calculate_spam_probability(email)\n",
        "print(f\"E-posta spam olma olasılığı: {spam_probability:.2f}\")\n"
      ]
    }
  ]
}